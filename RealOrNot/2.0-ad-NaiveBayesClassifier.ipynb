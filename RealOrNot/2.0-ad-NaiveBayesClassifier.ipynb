{
 "metadata": {
  "language_info": {
   "codemirror_mode": {
    "name": "ipython",
    "version": 3
   },
   "file_extension": ".py",
   "mimetype": "text/x-python",
   "name": "python",
   "nbconvert_exporter": "python",
   "pygments_lexer": "ipython3",
   "version": "3.8.3-final"
  },
  "orig_nbformat": 2,
  "kernelspec": {
   "name": "python3",
   "display_name": "Python 3"
  }
 },
 "nbformat": 4,
 "nbformat_minor": 2,
 "cells": [
  {
   "cell_type": "code",
   "execution_count": 3,
   "metadata": {},
   "outputs": [],
   "source": [
    "import numpy as np\n",
    "import pandas as pd\n",
    "from sklearn import feature_extraction, linear_model, model_selection, preprocessing\n",
    "from sklearn.naive_bayes import GaussianNB, MultinomialNB"
   ]
  },
  {
   "cell_type": "code",
   "execution_count": 5,
   "metadata": {},
   "outputs": [],
   "source": [
    "train_df=pd.read_csv(\"data/train.csv\")"
   ]
  },
  {
   "cell_type": "code",
   "execution_count": 3,
   "metadata": {},
   "outputs": [],
   "source": [
    "#Count Vectorizer\n",
    "countVectorizer=feature_extraction.text.CountVectorizer()\n",
    "train_vectors_count=countVectorizer.fit_transform(train_df[\"text\"])"
   ]
  },
  {
   "cell_type": "code",
   "execution_count": 8,
   "metadata": {},
   "outputs": [],
   "source": [
    "modelGNB=GaussianNB()\n",
    "modelMNB=MultinomialNB()"
   ]
  },
  {
   "cell_type": "code",
   "execution_count": 5,
   "metadata": {
    "tags": []
   },
   "outputs": [
    {
     "output_type": "stream",
     "name": "stdout",
     "text": "[nan nan nan] nan\n"
    }
   ],
   "source": [
    "scores_count=model_selection.cross_val_score(modelGNB, train_vectors_count, train_df[\"target\"], cv=3, scoring=\"f1\")\n",
    "print(scores_count, scores_count.mean())"
   ]
  },
  {
   "cell_type": "code",
   "execution_count": 12,
   "metadata": {
    "tags": []
   },
   "outputs": [
    {
     "output_type": "stream",
     "name": "stdout",
     "text": "[0.67139175 0.6875     0.68623853 0.72104019] 0.6915426184531768\n"
    }
   ],
   "source": [
    "scores_count=model_selection.cross_val_score(modelMNB, train_vectors_count, train_df[\"target\"], cv=4, scoring=\"f1\")\n",
    "print(scores_count, scores_count.mean())"
   ]
  },
  {
   "cell_type": "code",
   "execution_count": 6,
   "metadata": {
    "tags": []
   },
   "outputs": [
    {
     "output_type": "stream",
     "name": "stdout",
     "text": "(7613, 21637)\n"
    }
   ],
   "source": [
    "#TF-IDF Vectorizer\n",
    "tfidfVectorizer=feature_extraction.text.TfidfVectorizer()\n",
    "train_vectors_tfidf=tfidfVectorizer.fit_transform(train_df[\"text\"])\n",
    "print(train_vectors_tfidf.shape)"
   ]
  },
  {
   "cell_type": "code",
   "execution_count": 16,
   "metadata": {
    "tags": []
   },
   "outputs": [
    {
     "output_type": "stream",
     "name": "stdout",
     "text": "[0.59938367 0.62617498 0.63049853 0.71801926] 0.6435191100123577\n"
    }
   ],
   "source": [
    "scores_count=model_selection.cross_val_score(modelMNB, train_vectors_tfidf, train_df[\"target\"], cv=4, scoring=\"f1\")\n",
    "print(scores_count, scores_count.mean())"
   ]
  },
  {
   "cell_type": "code",
   "execution_count": null,
   "metadata": {},
   "outputs": [],
   "source": []
  }
 ]
}