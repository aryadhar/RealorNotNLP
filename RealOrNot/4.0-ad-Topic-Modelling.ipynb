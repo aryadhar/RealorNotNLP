{
 "cells": [
  {
   "cell_type": "code",
   "execution_count": 9,
   "metadata": {},
   "outputs": [
    {
     "name": "stderr",
     "output_type": "stream",
     "text": [
      "/home/arya/work/courses/RealOrNotNLP/RealorNotNLP/venv/lib/python3.8/site-packages/ipykernel/ipkernel.py:287: DeprecationWarning: `should_run_async` will not call `transform_cell` automatically in the future. Please pass the result to `transformed_cell` argument and any exception that happen during thetransform in `preprocessing_exc_tuple` in IPython 7.17 and above.\n",
      "  and should_run_async(code)\n",
      "[nltk_data] Downloading package stopwords to /home/arya/nltk_data...\n",
      "[nltk_data]   Package stopwords is already up-to-date!\n"
     ]
    }
   ],
   "source": [
    "import numpy as np\n",
    "import pandas as pd\n",
    "from loguru import logger\n",
    "import re\n",
    "import matplotlib.pyplot as plt\n",
    "# use seaborn plotting defaults\n",
    "import seaborn as sns; sns.set()\n",
    "%matplotlib inline\n",
    "\n",
    "# Gensim\n",
    "import gensim\n",
    "import gensim.corpora as corpora\n",
    "from gensim.models import CoherenceModel\n",
    "\n",
    "import pyLDAvis\n",
    "import pyLDAvis.gensim \n",
    "\n",
    "from nltk.corpus import stopwords\n",
    "#from utils import _remove_punctuation_and_symbols, _remove_stopwords\n",
    "from RealOrNot import utils"
   ]
  },
  {
   "cell_type": "code",
   "execution_count": 10,
   "metadata": {},
   "outputs": [
    {
     "name": "stderr",
     "output_type": "stream",
     "text": [
      "/home/arya/work/courses/RealOrNotNLP/RealorNotNLP/venv/lib/python3.8/site-packages/ipykernel/ipkernel.py:287: DeprecationWarning: `should_run_async` will not call `transform_cell` automatically in the future. Please pass the result to `transformed_cell` argument and any exception that happen during thetransform in `preprocessing_exc_tuple` in IPython 7.17 and above.\n",
      "  and should_run_async(code)\n",
      "2020-10-06 03:14:08.579 | INFO     | __main__:<module>:4 - Stripping punctuation and symbol from text\n",
      "2020-10-06 03:14:08.620 | INFO     | __main__:<module>:7 - Removing stopwords\n"
     ]
    }
   ],
   "source": [
    "train_df=pd.read_csv(\"data/train.csv\")\n",
    "col=\"text\"\n",
    "\n",
    "logger.info(\"Stripping punctuation and symbol from text\")\n",
    "train_df[col] = train_df[col].astype(str).apply(utils._remove_punctuation_and_symbols)\n",
    "\n",
    "logger.info(\"Removing stopwords\")\n",
    "train_df[col] = train_df[col].astype(str).apply(utils._remove_stopwords)\n"
   ]
  },
  {
   "cell_type": "code",
   "execution_count": 11,
   "metadata": {},
   "outputs": [
    {
     "name": "stderr",
     "output_type": "stream",
     "text": [
      "/home/arya/work/courses/RealOrNotNLP/RealorNotNLP/venv/lib/python3.8/site-packages/ipykernel/ipkernel.py:287: DeprecationWarning: `should_run_async` will not call `transform_cell` automatically in the future. Please pass the result to `transformed_cell` argument and any exception that happen during thetransform in `preprocessing_exc_tuple` in IPython 7.17 and above.\n",
      "  and should_run_async(code)\n"
     ]
    }
   ],
   "source": [
    "text_words=list(utils.sent_to_words(train_df[col]))"
   ]
  },
  {
   "cell_type": "code",
   "execution_count": 13,
   "metadata": {},
   "outputs": [
    {
     "name": "stderr",
     "output_type": "stream",
     "text": [
      "/home/arya/work/courses/RealOrNotNLP/RealorNotNLP/venv/lib/python3.8/site-packages/ipykernel/ipkernel.py:287: DeprecationWarning: `should_run_async` will not call `transform_cell` automatically in the future. Please pass the result to `transformed_cell` argument and any exception that happen during thetransform in `preprocessing_exc_tuple` in IPython 7.17 and above.\n",
      "  and should_run_async(code)\n"
     ]
    },
    {
     "data": {
      "text/plain": [
       "['forest', 'fire', 'near', 'ronge', 'sask', 'canada']"
      ]
     },
     "execution_count": 13,
     "metadata": {},
     "output_type": "execute_result"
    }
   ],
   "source": [
    "text_words[1]"
   ]
  },
  {
   "cell_type": "code",
   "execution_count": 14,
   "metadata": {},
   "outputs": [
    {
     "name": "stderr",
     "output_type": "stream",
     "text": [
      "/home/arya/work/courses/RealOrNotNLP/RealorNotNLP/venv/lib/python3.8/site-packages/ipykernel/ipkernel.py:287: DeprecationWarning: `should_run_async` will not call `transform_cell` automatically in the future. Please pass the result to `transformed_cell` argument and any exception that happen during thetransform in `preprocessing_exc_tuple` in IPython 7.17 and above.\n",
      "  and should_run_async(code)\n"
     ]
    },
    {
     "name": "stdout",
     "output_type": "stream",
     "text": [
      "['deeds', 'reason', 'earthquake', 'may', 'allah', 'forgive']\n"
     ]
    }
   ],
   "source": [
    "# Build the bigram and trigram models\n",
    "bigram = gensim.models.Phrases(text_words, min_count=5, threshold=100) # higher threshold fewer phrases.\n",
    "trigram = gensim.models.Phrases(bigram[text_words], threshold=100)  \n",
    "\n",
    "# Faster way to get a sentence clubbed as a trigram/bigram\n",
    "bigram_mod = gensim.models.phrases.Phraser(bigram)\n",
    "trigram_mod = gensim.models.phrases.Phraser(trigram)\n",
    "\n",
    "# See trigram example\n",
    "print(trigram_mod[bigram_mod[text_words[0]]])"
   ]
  },
  {
   "cell_type": "code",
   "execution_count": 17,
   "metadata": {},
   "outputs": [
    {
     "name": "stderr",
     "output_type": "stream",
     "text": [
      "/home/arya/work/courses/RealOrNotNLP/RealorNotNLP/venv/lib/python3.8/site-packages/ipykernel/ipkernel.py:287: DeprecationWarning: `should_run_async` will not call `transform_cell` automatically in the future. Please pass the result to `transformed_cell` argument and any exception that happen during thetransform in `preprocessing_exc_tuple` in IPython 7.17 and above.\n",
      "  and should_run_async(code)\n"
     ]
    },
    {
     "name": "stdout",
     "output_type": "stream",
     "text": [
      "['reason', 'earthquake', 'may', 'forgive']\n"
     ]
    }
   ],
   "source": [
    "# Remove Stop Words\n",
    "text_words_nostops = utils.remove_stopwords(text_words)\n",
    "\n",
    "# Form Bigrams\n",
    "text_words_bigrams = utils.make_bigrams(text_words_nostops, bigram_mod)\n",
    "\n",
    "# Do lemmatization keeping only noun, adj, vb, adv\n",
    "text_lemmatized = utils.lemmatization(text_words_bigrams, allowed_postags=['NOUN', 'ADJ', 'VERB', 'ADV'])\n",
    "\n",
    "print(text_lemmatized[0])"
   ]
  },
  {
   "cell_type": "code",
   "execution_count": 18,
   "metadata": {},
   "outputs": [
    {
     "name": "stdout",
     "output_type": "stream",
     "text": [
      "[(0, 1), (1, 1), (2, 1), (3, 1)]\n"
     ]
    },
    {
     "name": "stderr",
     "output_type": "stream",
     "text": [
      "/home/arya/work/courses/RealOrNotNLP/RealorNotNLP/venv/lib/python3.8/site-packages/ipykernel/ipkernel.py:287: DeprecationWarning: `should_run_async` will not call `transform_cell` automatically in the future. Please pass the result to `transformed_cell` argument and any exception that happen during thetransform in `preprocessing_exc_tuple` in IPython 7.17 and above.\n",
      "  and should_run_async(code)\n",
      "/home/arya/anaconda3/lib/python3.8/asyncio/events.py:81: DeprecationWarning: `run_cell_async` will not call `transform_cell` automatically in the future. Please pass the result to `transformed_cell` argument and any exception that happen during thetransform in `preprocessing_exc_tuple` in IPython 7.17 and above.\n",
      "  self._context.run(self._callback, *self._args)\n"
     ]
    }
   ],
   "source": [
    "# Create Dictionary\n",
    "id2word = corpora.Dictionary(text_lemmatized)\n",
    "\n",
    "# Create Corpus\n",
    "texts = text_lemmatized\n",
    "\n",
    "# Term Document Frequency\n",
    "corpus = [id2word.doc2bow(text) for text in texts]\n",
    "\n",
    "# View\n",
    "print(corpus[0])"
   ]
  },
  {
   "cell_type": "code",
   "execution_count": 19,
   "metadata": {},
   "outputs": [
    {
     "name": "stderr",
     "output_type": "stream",
     "text": [
      "/home/arya/work/courses/RealOrNotNLP/RealorNotNLP/venv/lib/python3.8/site-packages/ipykernel/ipkernel.py:287: DeprecationWarning: `should_run_async` will not call `transform_cell` automatically in the future. Please pass the result to `transformed_cell` argument and any exception that happen during thetransform in `preprocessing_exc_tuple` in IPython 7.17 and above.\n",
      "  and should_run_async(code)\n",
      "/home/arya/anaconda3/lib/python3.8/asyncio/events.py:81: DeprecationWarning: `run_cell_async` will not call `transform_cell` automatically in the future. Please pass the result to `transformed_cell` argument and any exception that happen during thetransform in `preprocessing_exc_tuple` in IPython 7.17 and above.\n",
      "  self._context.run(self._callback, *self._args)\n"
     ]
    },
    {
     "data": {
      "text/plain": [
       "[[('earthquake', 1), ('forgive', 1), ('may', 1), ('reason', 1)]]"
      ]
     },
     "execution_count": 19,
     "metadata": {},
     "output_type": "execute_result"
    }
   ],
   "source": [
    "# Human readable format of corpus (term-frequency)\n",
    "[[(id2word[id], freq) for id, freq in cp] for cp in corpus[:1]]"
   ]
  },
  {
   "cell_type": "code",
   "execution_count": 35,
   "metadata": {},
   "outputs": [
    {
     "name": "stderr",
     "output_type": "stream",
     "text": [
      "/home/arya/work/courses/RealOrNotNLP/RealorNotNLP/venv/lib/python3.8/site-packages/ipykernel/ipkernel.py:287: DeprecationWarning: `should_run_async` will not call `transform_cell` automatically in the future. Please pass the result to `transformed_cell` argument and any exception that happen during thetransform in `preprocessing_exc_tuple` in IPython 7.17 and above.\n",
      "  and should_run_async(code)\n"
     ]
    }
   ],
   "source": [
    "# Build LDA model\n",
    "lda_model = gensim.models.ldamodel.LdaModel(corpus=corpus,\n",
    "                                           id2word=id2word,\n",
    "                                           num_topics=5, \n",
    "                                           random_state=100,\n",
    "                                           update_every=2,\n",
    "                                           chunksize=10,\n",
    "                                           passes=10,\n",
    "                                           alpha='auto',\n",
    "                                           per_word_topics=True)"
   ]
  },
  {
   "cell_type": "code",
   "execution_count": 36,
   "metadata": {},
   "outputs": [
    {
     "name": "stderr",
     "output_type": "stream",
     "text": [
      "/home/arya/work/courses/RealOrNotNLP/RealorNotNLP/venv/lib/python3.8/site-packages/ipykernel/ipkernel.py:287: DeprecationWarning: `should_run_async` will not call `transform_cell` automatically in the future. Please pass the result to `transformed_cell` argument and any exception that happen during thetransform in `preprocessing_exc_tuple` in IPython 7.17 and above.\n",
      "  and should_run_async(code)\n"
     ]
    },
    {
     "data": {
      "text/plain": [
       "7613"
      ]
     },
     "execution_count": 36,
     "metadata": {},
     "output_type": "execute_result"
    }
   ],
   "source": [
    "len(corpus)"
   ]
  },
  {
   "cell_type": "code",
   "execution_count": 37,
   "metadata": {},
   "outputs": [
    {
     "name": "stdout",
     "output_type": "stream",
     "text": [
      "[(0, '0.045*\"weapon\" + 0.028*\"get\" + 0.017*\"go\" + 0.017*\"storm\" + 0.016*\"s\" + 0.016*\"wreck\" + 0.013*\"nuclear\" + 0.012*\"would\" + 0.011*\"part\" + 0.010*\"fall\"'), (1, '0.022*\"car\" + 0.022*\"kill\" + 0.019*\"people\" + 0.017*\"survive\" + 0.015*\"wreck\" + 0.014*\"break\" + 0.013*\"world\" + 0.013*\"back\" + 0.011*\"feel\" + 0.010*\"cause\"'), (2, '0.044*\"wound\" + 0.017*\"fire\" + 0.016*\"say\" + 0.013*\"watch\" + 0.013*\"wreck\" + 0.012*\"new\" + 0.012*\"look\" + 0.010*\"thunder\" + 0.009*\"earthquake\" + 0.009*\"even\"'), (3, '0.018*\"still\" + 0.016*\"see\" + 0.015*\"video\" + 0.015*\"wreck\" + 0.014*\"amp\" + 0.014*\"train\" + 0.014*\"think\" + 0.013*\"love\" + 0.013*\"help\" + 0.013*\"come\"'), (4, '0.019*\"wreck\" + 0.018*\"make\" + 0.013*\"shot\" + 0.011*\"take\" + 0.010*\"time\" + 0.010*\"sink\" + 0.010*\"great\" + 0.010*\"year\" + 0.010*\"be\" + 0.009*\"want\"')]\n"
     ]
    },
    {
     "name": "stderr",
     "output_type": "stream",
     "text": [
      "/home/arya/work/courses/RealOrNotNLP/RealorNotNLP/venv/lib/python3.8/site-packages/ipykernel/ipkernel.py:287: DeprecationWarning: `should_run_async` will not call `transform_cell` automatically in the future. Please pass the result to `transformed_cell` argument and any exception that happen during thetransform in `preprocessing_exc_tuple` in IPython 7.17 and above.\n",
      "  and should_run_async(code)\n"
     ]
    }
   ],
   "source": [
    "print(lda_model.print_topics())\n",
    "doc_lda = lda_model[corpus]"
   ]
  },
  {
   "cell_type": "code",
   "execution_count": 38,
   "metadata": {},
   "outputs": [
    {
     "name": "stderr",
     "output_type": "stream",
     "text": [
      "/home/arya/work/courses/RealOrNotNLP/RealorNotNLP/venv/lib/python3.8/site-packages/ipykernel/ipkernel.py:287: DeprecationWarning: `should_run_async` will not call `transform_cell` automatically in the future. Please pass the result to `transformed_cell` argument and any exception that happen during thetransform in `preprocessing_exc_tuple` in IPython 7.17 and above.\n",
      "  and should_run_async(code)\n"
     ]
    },
    {
     "name": "stdout",
     "output_type": "stream",
     "text": [
      "\n",
      "Perplexity:  -9.761754279641604\n",
      "\n",
      "Coherence Score:  0.5366301428020785\n"
     ]
    }
   ],
   "source": [
    "# Compute Perplexity\n",
    "print('\\nPerplexity: ', lda_model.log_perplexity(corpus))  # a measure of how good the model is. lower the better.\n",
    "\n",
    "# Compute Coherence Score\n",
    "coherence_model_lda = CoherenceModel(model=lda_model, texts=text_lemmatized, dictionary=id2word, coherence='c_v')\n",
    "coherence_lda = coherence_model_lda.get_coherence()\n",
    "print('\\nCoherence Score: ', coherence_lda)"
   ]
  },
  {
   "cell_type": "code",
   "execution_count": 39,
   "metadata": {},
   "outputs": [
    {
     "name": "stderr",
     "output_type": "stream",
     "text": [
      "/home/arya/work/courses/RealOrNotNLP/RealorNotNLP/venv/lib/python3.8/site-packages/ipykernel/ipkernel.py:287: DeprecationWarning: `should_run_async` will not call `transform_cell` automatically in the future. Please pass the result to `transformed_cell` argument and any exception that happen during thetransform in `preprocessing_exc_tuple` in IPython 7.17 and above.\n",
      "  and should_run_async(code)\n"
     ]
    },
    {
     "data": {
      "text/html": [
       "\n",
       "<link rel=\"stylesheet\" type=\"text/css\" href=\"https://cdn.rawgit.com/bmabey/pyLDAvis/files/ldavis.v1.0.0.css\">\n",
       "\n",
       "\n",
       "<div id=\"ldavis_el173741397693483454081004062319\"></div>\n",
       "<script type=\"text/javascript\">\n",
       "\n",
       "var ldavis_el173741397693483454081004062319_data = {\"mdsDat\": {\"x\": [0.21755720530618367, -0.10162816963721355, -0.03961062734122171, -0.04824383404543543, -0.028074574282313077], \"y\": [-0.04030500385010071, -0.17832934954812882, 0.0650195620380031, 0.12229035204934073, 0.03132443931088586], \"topics\": [1, 2, 3, 4, 5], \"cluster\": [1, 1, 1, 1, 1], \"Freq\": [24.046407286023882, 20.667813427727573, 20.21873976068602, 19.27868904730028, 15.788350478262242]}, \"tinfo\": {\"Term\": [\"weapon\", \"wound\", \"get\", \"car\", \"kill\", \"fire\", \"make\", \"still\", \"say\", \"people\", \"go\", \"storm\", \"see\", \"survive\", \"s\", \"video\", \"amp\", \"train\", \"watch\", \"think\", \"love\", \"shot\", \"help\", \"come\", \"new\", \"look\", \"nuclear\", \"break\", \"world\", \"would\", \"fire\", \"say\", \"watch\", \"new\", \"look\", \"attack\", \"even\", \"can\", \"much\", \"could\", \"know\", \"life\", \"thunder\", \"terrorist\", \"wildfire\", \"earthquake\", \"lot\", \"confirm\", \"head\", \"plane\", \"bomb\", \"never\", \"hope\", \"really\", \"week\", \"large\", \"pretty\", \"last\", \"many\", \"group\", \"wound\", \"stock\", \"wreck\", \"still\", \"see\", \"video\", \"amp\", \"think\", \"love\", \"come\", \"help\", \"train\", \"day\", \"good\", \"need\", \"show\", \"run\", \"bad\", \"right\", \"hour\", \"news\", \"ever\", \"lose\", \"have\", \"guy\", \"stay\", \"become\", \"sound\", \"way\", \"hear\", \"hit\", \"friend\", \"issue\", \"map\", \"wreck\", \"make\", \"take\", \"shot\", \"time\", \"year\", \"great\", \"be\", \"want\", \"find\", \"police\", \"sink\", \"whole\", \"thing\", \"home\", \"tonight\", \"may\", \"well\", \"case\", \"thank\", \"first\", \"dead\", \"heart\", \"must\", \"victim\", \"expect\", \"rain\", \"wrong\", \"point\", \"night\", \"create\", \"suffer\", \"trauma\", \"survivor\", \"wreck\", \"get\", \"weapon\", \"go\", \"storm\", \"s\", \"would\", \"nuclear\", \"part\", \"today\", \"fall\", \"man\", \"use\", \"update\", \"start\", \"scream\", \"state\", \"leave\", \"give\", \"area\", \"live\", \"late\", \"soon\", \"girl\", \"rule\", \"move\", \"game\", \"wait\", \"evacuate\", \"disaster\", \"little\", \"tornado\", \"insurer\", \"trap\", \"glad\", \"wreck\", \"kill\", \"car\", \"people\", \"survive\", \"world\", \"break\", \"back\", \"feel\", \"cause\", \"let\", \"school\", \"ship\", \"open\", \"work\", \"also\", \"die\", \"crew\", \"bus\", \"force\", \"miss\", \"old\", \"read\", \"send\", \"family\", \"phone\", \"eye\", \"fuck\", \"official\", \"member\", \"other\", \"fun\", \"gas\", \"wreck\"], \"Freq\": [350.0, 431.0, 218.0, 140.0, 138.0, 165.0, 146.0, 147.0, 157.0, 119.0, 134.0, 131.0, 132.0, 109.0, 121.0, 124.0, 117.0, 114.0, 126.0, 112.0, 109.0, 105.0, 106.0, 105.0, 116.0, 114.0, 98.0, 85.0, 84.0, 94.0, 164.50443135757305, 156.66866116469504, 125.60451116860445, 116.16245152834564, 113.48446096196794, 83.11749071847075, 83.80479563117827, 81.51439476041168, 77.64377865815088, 75.74359898955942, 73.13725676461206, 70.05905865165794, 94.68436256391203, 68.55062110683195, 79.58277081847086, 85.34437861725226, 60.72973007649201, 63.429575527892666, 54.082771965069604, 58.047413134915885, 51.558349877513386, 49.11130746348026, 49.00547629780177, 48.410073406706076, 47.77514439498316, 45.77571232712317, 44.352615878221506, 42.076630311208845, 41.595127052527666, 43.094746820273976, 423.9904071135641, 76.87531629893773, 123.1609120140076, 147.17737272483737, 131.78996391424843, 124.20382017693127, 116.78586025975457, 111.77022404481382, 109.11492691325921, 105.19968486398302, 105.81568417312619, 113.3878355931678, 96.654013177606, 93.74400220247435, 82.38345196439303, 83.55822392177818, 74.81821619924597, 63.514444101210714, 63.93764844585479, 58.43887859970322, 58.63229459307864, 57.18533947983573, 57.874620196386914, 48.1873785964394, 43.19179164707429, 43.491047061726555, 40.190968616068574, 39.57393809230976, 37.9792279421487, 37.36058351001372, 37.10460844112608, 37.224612687699675, 37.40058236986386, 37.741186040443246, 122.65157000105621, 145.5216124282723, 89.9589086428837, 104.80257270708883, 84.38804467221122, 79.49398975728725, 80.07798845734811, 78.2744418824087, 75.40278867161523, 71.01565800911624, 69.8114035167532, 81.32135770685608, 59.84981617626199, 56.055838492078, 54.48548787387732, 53.355011388926734, 51.100441287353526, 47.78756386540277, 48.460142677042036, 44.09852473677285, 45.7918261999396, 40.71573203031081, 41.17697114644246, 40.70218249842542, 44.34161001418189, 38.54620183602601, 37.46010541205845, 37.32378879581103, 35.80750129736118, 35.02546491939509, 32.84831428536739, 41.335590299673655, 74.2572625682157, 40.178326018914234, 149.73349547798298, 217.8878529705546, 349.12536087237163, 133.37505313824707, 130.27205600130276, 120.84835120278248, 93.43755145633985, 97.66090647742118, 84.31828054105382, 75.12286539642191, 75.4700807936927, 66.33740042691579, 63.190963818848466, 58.05198999484675, 51.32550875530268, 49.74311481059552, 46.94862445428498, 45.071394217757316, 44.06432653152279, 42.51039995836735, 41.68714545731622, 38.82710970211821, 37.00909202752058, 35.074998564964076, 33.990595890091285, 31.0762500684283, 30.35655586727788, 30.20381685101604, 40.876835546770955, 29.84994500202517, 29.788304435411845, 60.14609576015375, 52.01456146583298, 52.73836432292021, 32.817408342933874, 120.73631255368579, 137.73434275474145, 140.13239847544094, 118.7217623346618, 109.10781029319882, 83.6695720978316, 85.10650788944066, 78.72808614235612, 66.20270211483981, 59.76370228471696, 53.32599683304829, 48.3612852768488, 49.694029459813414, 44.99286741348114, 42.85311340583921, 40.22126423742815, 37.40914212046475, 53.414172704665944, 37.83831936022075, 37.77961841878682, 36.19970944869496, 35.53208544140008, 33.186460833468516, 32.40480267005304, 33.07843294479022, 32.88812124207297, 31.461724970953846, 25.96101481103299, 26.033930487798447, 26.193387956594616, 26.7284406683687, 26.7687362510143, 26.777521625137613, 97.21226730733106], \"Total\": [350.0, 431.0, 218.0, 140.0, 138.0, 165.0, 146.0, 147.0, 157.0, 119.0, 134.0, 131.0, 132.0, 109.0, 121.0, 124.0, 117.0, 114.0, 126.0, 112.0, 109.0, 105.0, 106.0, 105.0, 116.0, 114.0, 98.0, 85.0, 84.0, 94.0, 165.2516649456579, 157.38495899580585, 126.34137525841517, 116.87648977726859, 114.20107064162481, 83.83487202543598, 84.53003051754601, 82.22298368347082, 78.36750399461873, 76.46310768367943, 73.84776443938314, 70.77301198884338, 95.65362612515297, 69.30626000829442, 80.49596241427763, 86.32878972154528, 61.457516745884675, 64.20176813326746, 54.805816429731195, 58.827512513348594, 52.28522148565051, 49.825252172788744, 49.732177031212146, 49.12828742573668, 48.500866637542906, 46.51350292306524, 45.093342570342834, 42.787593103680955, 42.31699169172005, 43.847995991743474, 431.5532940140974, 78.60750748557447, 613.4945573540637, 147.8951598886396, 132.50438614227537, 124.91955477705473, 117.49756489550136, 112.48838431722714, 109.83499846821859, 105.9120648865368, 106.540735746966, 114.22679352616437, 97.3713025715739, 94.4608943036337, 83.10439506831939, 84.29569773902053, 75.54288310352891, 64.23072027246289, 64.66132755405356, 59.168530627906115, 59.369354331492566, 57.906051141415716, 58.61624844016968, 48.90305166412161, 43.91642290764125, 44.22289628029912, 40.91453745930519, 40.298923570252875, 38.68878430893381, 38.0758955224502, 37.817168562746794, 37.95159999953354, 38.13854101668105, 38.77546920823135, 613.4945573540637, 146.22469874531743, 90.66356060390304, 105.63928475928444, 85.091911918369, 80.19636154008533, 80.79405367572551, 78.97850500872441, 76.10751432846416, 71.72606191774639, 70.52404564592273, 82.19153254337915, 60.56493635777432, 56.76139616954267, 55.20711167261032, 54.0748789613087, 51.802715203227955, 48.4910010173758, 49.19566762932532, 44.80604616599998, 46.53858935583801, 41.41830934471766, 41.894657117152576, 41.41474119851715, 45.120943507022645, 39.25666294899069, 38.170333700876725, 38.04710688066728, 36.541397523801166, 35.754942059626906, 33.57140164360285, 42.26951832439856, 81.74561046706738, 44.54034420444153, 613.4945573540637, 218.60621099195905, 350.4612699353854, 134.0924082333859, 131.00259632242057, 121.56175719810953, 94.15328732657755, 98.48333968222383, 85.06261626889807, 75.84262794808883, 76.22025213748138, 67.06233890390085, 63.91822630618537, 58.79715657835715, 52.042099507318696, 50.496034259608095, 47.690296647364256, 45.78367173805283, 44.777299938956546, 43.2413585019872, 42.406464146489846, 39.57876409408211, 37.765748264276844, 35.80900775267115, 34.76938643017627, 31.79201136428922, 31.07309632037315, 30.92371235818378, 41.85409003697016, 30.569804759849674, 30.51976527609788, 61.73454825864495, 55.1237082919907, 56.40668541528705, 34.17732775258067, 613.4945573540637, 138.46244745126162, 140.88236939541636, 119.43932886398818, 109.94275013371686, 84.3948133987569, 85.84894395780933, 79.4519222878449, 66.92321739301482, 60.49080240475037, 54.042150732990855, 49.097461932962574, 50.48842071198443, 45.726383856928855, 43.58140770755478, 40.9522684247492, 38.1409497247371, 54.46145811762163, 38.58615135803898, 38.52775324780341, 36.94251829311147, 36.26166471787952, 33.930132516774286, 33.13722648384473, 33.82864299259668, 33.64232883934599, 32.206930571416066, 26.676991161928278, 26.75584943700251, 26.936794359857537, 27.489845482526515, 27.547812020163562, 27.723766605582064, 613.4945573540637], \"Category\": [\"Default\", \"Default\", \"Default\", \"Default\", \"Default\", \"Default\", \"Default\", \"Default\", \"Default\", \"Default\", \"Default\", \"Default\", \"Default\", \"Default\", \"Default\", \"Default\", \"Default\", \"Default\", \"Default\", \"Default\", \"Default\", \"Default\", \"Default\", \"Default\", \"Default\", \"Default\", \"Default\", \"Default\", \"Default\", \"Default\", \"Topic1\", \"Topic1\", \"Topic1\", \"Topic1\", \"Topic1\", \"Topic1\", \"Topic1\", \"Topic1\", \"Topic1\", \"Topic1\", \"Topic1\", \"Topic1\", \"Topic1\", \"Topic1\", \"Topic1\", \"Topic1\", \"Topic1\", \"Topic1\", \"Topic1\", \"Topic1\", \"Topic1\", \"Topic1\", \"Topic1\", \"Topic1\", \"Topic1\", \"Topic1\", \"Topic1\", \"Topic1\", \"Topic1\", \"Topic1\", \"Topic1\", \"Topic1\", \"Topic1\", \"Topic2\", \"Topic2\", \"Topic2\", \"Topic2\", \"Topic2\", \"Topic2\", \"Topic2\", \"Topic2\", \"Topic2\", \"Topic2\", \"Topic2\", \"Topic2\", \"Topic2\", \"Topic2\", \"Topic2\", \"Topic2\", \"Topic2\", \"Topic2\", \"Topic2\", \"Topic2\", \"Topic2\", \"Topic2\", \"Topic2\", \"Topic2\", \"Topic2\", \"Topic2\", \"Topic2\", \"Topic2\", \"Topic2\", \"Topic2\", \"Topic2\", \"Topic2\", \"Topic3\", \"Topic3\", \"Topic3\", \"Topic3\", \"Topic3\", \"Topic3\", \"Topic3\", \"Topic3\", \"Topic3\", \"Topic3\", \"Topic3\", \"Topic3\", \"Topic3\", \"Topic3\", \"Topic3\", \"Topic3\", \"Topic3\", \"Topic3\", \"Topic3\", \"Topic3\", \"Topic3\", \"Topic3\", \"Topic3\", \"Topic3\", \"Topic3\", \"Topic3\", \"Topic3\", \"Topic3\", \"Topic3\", \"Topic3\", \"Topic3\", \"Topic3\", \"Topic3\", \"Topic3\", \"Topic4\", \"Topic4\", \"Topic4\", \"Topic4\", \"Topic4\", \"Topic4\", \"Topic4\", \"Topic4\", \"Topic4\", \"Topic4\", \"Topic4\", \"Topic4\", \"Topic4\", \"Topic4\", \"Topic4\", \"Topic4\", \"Topic4\", \"Topic4\", \"Topic4\", \"Topic4\", \"Topic4\", \"Topic4\", \"Topic4\", \"Topic4\", \"Topic4\", \"Topic4\", \"Topic4\", \"Topic4\", \"Topic4\", \"Topic4\", \"Topic4\", \"Topic4\", \"Topic4\", \"Topic4\", \"Topic4\", \"Topic5\", \"Topic5\", \"Topic5\", \"Topic5\", \"Topic5\", \"Topic5\", \"Topic5\", \"Topic5\", \"Topic5\", \"Topic5\", \"Topic5\", \"Topic5\", \"Topic5\", \"Topic5\", \"Topic5\", \"Topic5\", \"Topic5\", \"Topic5\", \"Topic5\", \"Topic5\", \"Topic5\", \"Topic5\", \"Topic5\", \"Topic5\", \"Topic5\", \"Topic5\", \"Topic5\", \"Topic5\", \"Topic5\", \"Topic5\", \"Topic5\", \"Topic5\", \"Topic5\"], \"logprob\": [30.0, 29.0, 28.0, 27.0, 26.0, 25.0, 24.0, 23.0, 22.0, 21.0, 20.0, 19.0, 18.0, 17.0, 16.0, 15.0, 14.0, 13.0, 12.0, 11.0, 10.0, 9.0, 8.0, 7.0, 6.0, 5.0, 4.0, 3.0, 2.0, 1.0, -4.064300060272217, -4.113100051879883, -4.334099769592285, -4.412300109863281, -4.4355998039245605, -4.747000217437744, -4.738800048828125, -4.766499996185303, -4.815100193023682, -4.839900016784668, -4.874899864196777, -4.917900085449219, -4.616700172424316, -4.939700126647949, -4.79040002822876, -4.7204999923706055, -5.060800075531006, -5.017300128936768, -5.176700115203857, -5.105999946594238, -5.2245001792907715, -5.273200035095215, -5.275300025939941, -5.287499904632568, -5.3007001876831055, -5.343500137329102, -5.375100135803223, -5.427700042724609, -5.439300060272217, -5.403800010681152, -3.117500066757202, -4.825099945068359, -4.353700160980225, -4.024199962615967, -4.1346001625061035, -4.193900108337402, -4.255499839782715, -4.2993998527526855, -4.323400020599365, -4.360000133514404, -4.354100227355957, -4.284999847412109, -4.444699764251709, -4.475299835205078, -4.604400157928467, -4.5903000831604, -4.700799942016602, -4.86460018157959, -4.857900142669678, -4.94789981842041, -4.944499969482422, -4.9695000648498535, -4.957600116729736, -5.140699863433838, -5.250199794769287, -5.243299961090088, -5.322199821472168, -5.337699890136719, -5.378799915313721, -5.395199775695801, -5.402100086212158, -5.398900032043457, -5.394100189208984, -5.3850998878479, -4.206500053405762, -4.013500213623047, -4.494500160217285, -4.341800212860107, -4.5584001541137695, -4.618199825286865, -4.610899925231934, -4.633600234985352, -4.671000003814697, -4.730999946594238, -4.7480998039245605, -4.5954999923706055, -4.9019999504089355, -4.96750020980835, -4.9959001541137695, -5.016900062561035, -5.060100078582764, -5.127099990844727, -5.113100051879883, -5.207399845123291, -5.1697998046875, -5.287300109863281, -5.276000022888184, -5.287600040435791, -5.201900005340576, -5.3420000076293945, -5.37060022354126, -5.374199867248535, -5.4156999588012695, -5.43779993057251, -5.501999855041504, -5.27209997177124, -4.686299800872803, -5.30049991607666, -3.984999895095825, -3.562299966812134, -3.0908000469207764, -4.053100109100342, -4.076600074768066, -4.151700019836426, -4.408999919891357, -4.364799976348877, -4.51170015335083, -4.627099990844727, -4.622499942779541, -4.751500129699707, -4.800099849700928, -4.884900093078613, -5.0081000328063965, -5.039400100708008, -5.0971999168396, -5.138000011444092, -5.160600185394287, -5.196499824523926, -5.216100215911865, -5.287099838256836, -5.335100173950195, -5.388800144195557, -5.420199871063232, -5.509799957275391, -5.533199787139893, -5.538300037384033, -5.2357001304626465, -5.550099849700928, -5.55210018157959, -4.8495001792907715, -4.994699954986572, -4.980899810791016, -5.4552998542785645, -4.152599811553955, -3.821199893951416, -3.8039000034332275, -3.9697000980377197, -4.054200172424316, -4.319699764251709, -4.302599906921387, -4.380499839782715, -4.553800106048584, -4.656099796295166, -4.770100116729736, -4.867800235748291, -4.84060001373291, -4.940000057220459, -4.988800048828125, -5.05210018157959, -5.124599933624268, -4.768499851226807, -5.1132001876831055, -5.114799976348877, -5.15749979019165, -5.17609977722168, -5.2444000244140625, -5.268199920654297, -5.247600078582764, -5.253399848937988, -5.297800064086914, -5.4899001121521, -5.487100124359131, -5.480999946594238, -5.4608001708984375, -5.4593000411987305, -5.459000110626221, -4.169600009918213], \"loglift\": [30.0, 29.0, 28.0, 27.0, 26.0, 25.0, 24.0, 23.0, 22.0, 21.0, 20.0, 19.0, 18.0, 17.0, 16.0, 15.0, 14.0, 13.0, 12.0, 11.0, 10.0, 9.0, 8.0, 7.0, 6.0, 5.0, 4.0, 3.0, 2.0, 1.0, 1.4207, 1.4206, 1.4193, 1.4191, 1.4189, 1.4166, 1.4166, 1.4165, 1.4159, 1.4157, 1.4155, 1.415, 1.415, 1.4142, 1.4138, 1.4137, 1.4133, 1.4131, 1.4119, 1.4118, 1.4112, 1.4108, 1.4105, 1.4105, 1.4101, 1.4092, 1.4086, 1.4084, 1.408, 1.4079, 1.4075, 1.4029, -0.1805, 1.5717, 1.5712, 1.5708, 1.5705, 1.5702, 1.57, 1.5698, 1.5698, 1.5692, 1.5692, 1.569, 1.5679, 1.5678, 1.567, 1.5654, 1.5653, 1.5642, 1.5641, 1.5641, 1.5639, 1.5618, 1.56, 1.5599, 1.5587, 1.5584, 1.5581, 1.5576, 1.5576, 1.5573, 1.5571, 1.5496, -0.0332, 1.5937, 1.5908, 1.5906, 1.5903, 1.5898, 1.5897, 1.5896, 1.5893, 1.5886, 1.5884, 1.5879, 1.5867, 1.5861, 1.5854, 1.5852, 1.5849, 1.5839, 1.5835, 1.5826, 1.5824, 1.5815, 1.5813, 1.5812, 1.5811, 1.5803, 1.5798, 1.5794, 1.5783, 1.5779, 1.5768, 1.5762, 1.5025, 1.4955, 0.1882, 1.6429, 1.6424, 1.6408, 1.6406, 1.6403, 1.6385, 1.6378, 1.6374, 1.6366, 1.6363, 1.6353, 1.6347, 1.6334, 1.6323, 1.6311, 1.6305, 1.6305, 1.6301, 1.6291, 1.6291, 1.627, 1.6259, 1.6255, 1.6235, 1.6234, 1.6228, 1.6226, 1.6225, 1.6223, 1.6219, 1.6201, 1.5881, 1.5789, 1.6056, 0.0206, 1.8406, 1.8406, 1.8399, 1.8383, 1.8373, 1.8372, 1.8367, 1.8351, 1.8338, 1.8326, 1.8308, 1.83, 1.8297, 1.829, 1.8279, 1.8265, 1.8265, 1.8263, 1.8263, 1.8256, 1.8256, 1.8237, 1.8235, 1.8235, 1.8232, 1.8225, 1.8187, 1.8185, 1.8179, 1.8178, 1.8172, 1.8112, 0.0036]}, \"token.table\": {\"Topic\": [5, 2, 4, 1, 5, 2, 3, 2, 1, 5, 5, 1, 5, 3, 5, 2, 1, 1, 3, 5, 2, 3, 5, 4, 1, 4, 1, 2, 3, 5, 4, 5, 5, 3, 1, 3, 5, 2, 5, 5, 4, 5, 4, 4, 4, 4, 4, 2, 3, 1, 2, 2, 1, 2, 3, 2, 2, 3, 1, 2, 1, 2, 3, 4, 5, 2, 5, 1, 1, 1, 4, 4, 5, 1, 4, 4, 1, 2, 1, 2, 3, 4, 1, 2, 3, 5, 5, 4, 1, 3, 2, 1, 1, 2, 3, 4, 5, 5, 5, 5, 4, 5, 5, 1, 3, 3, 1, 3, 5, 1, 2, 4, 2, 4, 1, 5, 4, 2, 5, 5, 3, 2, 3, 4, 2, 4, 4, 2, 2, 1, 4, 3, 5, 1, 2, 3, 4, 5, 3, 1, 3, 3, 2, 1, 3, 4, 3, 4, 2, 1, 2, 3, 4, 5, 1, 2, 3, 4, 5, 4, 4, 3, 2, 4, 3, 1, 2, 4, 1, 3, 3, 1, 5, 5, 4, 1, 2, 3, 4, 5, 1, 2, 3, 4, 5, 3, 3], \"Freq\": [0.9767468699200628, 0.9957653173838634, 0.9944183413669553, 0.9900414707476063, 0.9943120030978277, 0.9964079451159167, 0.9876104896057943, 0.9776476158330077, 0.994544892848378, 0.9901111892741914, 0.984809281635784, 0.9972880613974163, 0.9937368359206126, 0.9756956722625594, 0.9918863300660758, 0.9913884703549696, 0.9812813857279931, 0.9939433839702768, 0.9829795118574761, 0.9731652774616264, 0.9961867350875688, 0.9899003761540303, 0.9700859644824966, 0.9813605365056811, 0.9846078031925235, 0.9795936302469905, 0.9937296779109054, 0.9843530835973775, 0.9934619264677644, 0.9625257498928746, 0.9839904473776816, 0.9755046930857373, 0.9862048265313798, 0.989877292878856, 0.998477080725688, 0.98842703736205, 0.9863019978245552, 0.9749259583378503, 0.9746226567374495, 0.9801141368409734, 0.9654654203331011, 0.9738936409370746, 0.9972269269513969, 0.9774077026021253, 0.9826407590449577, 0.9655523755074217, 0.9918533178143495, 0.9951207925032745, 0.9901718797411438, 0.9806605530637443, 0.9791325693905322, 0.9815338382086256, 0.9852968812030314, 0.971743395455641, 0.9786450784248981, 0.9949246103551391, 0.9783915984775292, 0.9781348519051541, 0.9852775994352182, 0.980250808740635, 0.018141014655672156, 0.018141014655672156, 0.018141014655672156, 0.943332762094952, 0.018141014655672156, 0.9701472320038913, 0.9966601236669285, 0.988520106927827, 0.9889601322025866, 0.9815929561222924, 0.9853769033134451, 0.9828831609981712, 0.9807159648745316, 0.9890775880929692, 0.9829695519806326, 0.9904150427376887, 0.989482842543623, 0.9894867301035363, 0.9925555608148565, 0.9923977012804329, 0.9984633324790856, 0.9841589344889512, 0.9925091156283193, 0.9800010361172694, 0.9845043797399652, 0.9652225002224618, 0.9744868964905617, 0.9750877239186302, 0.9953105053002075, 0.9899856624352877, 0.9867107501665648, 0.9834370698230115, 0.9925007178181094, 0.9937787039180138, 0.9788856584254024, 0.9950921680379299, 0.9717501236960471, 0.9927839849627615, 0.9841145571624119, 0.9821808571882342, 0.9875078346339718, 0.9963217403499607, 0.9809071232133382, 0.9859332397717679, 0.9851839951263898, 0.9925692628503789, 0.9757537918454973, 0.9693391807876742, 0.9725868292346206, 0.9770338539188401, 0.9897724408225191, 0.9778717282882933, 0.9928135771203634, 0.9953788328578203, 0.9975540293160028, 0.9776472776849231, 0.9901767680000789, 0.9961934381422379, 0.9656813015295908, 0.990326084573517, 0.9939484183299693, 0.9964921372388896, 0.9855029769307406, 0.9797237364683391, 0.992582343552384, 0.979975836540335, 0.9855254276888125, 0.9723469880274688, 0.9939473347923379, 0.9795502040836307, 0.992346744640442, 0.9699661038326577, 0.991425081393996, 0.022451555277839114, 0.022451555277839114, 0.8980622111135645, 0.022451555277839114, 0.022451555277839114, 0.9926810661363494, 0.9955810628324517, 0.982010325949902, 0.9865860211177958, 0.9956583577923045, 0.9931667397083539, 0.987167853045581, 0.988889784401121, 0.9801223972766026, 0.9719031189573489, 0.9892600195777765, 0.017728395005620824, 0.017728395005620824, 0.017728395005620824, 0.9396049352979038, 0.017728395005620824, 0.024466145503992953, 0.024466145503992953, 0.9052473836477394, 0.024466145503992953, 0.024466145503992953, 0.9864422597154879, 0.9856343587854454, 0.975156913399912, 0.9926388244122718, 0.9701293186443921, 0.9854480291698352, 0.9972979931735195, 0.9821967962747601, 0.9958304381660923, 0.989673037364755, 0.9898743889159999, 0.9906722207311986, 0.9938386671902235, 0.9866592719662427, 0.9953218286425797, 0.9877509605949573, 0.982497424723977, 0.004634421814735741, 0.004634421814735741, 0.004634421814735741, 0.0023172109073678706, 0.20049077620262162, 0.20049077620262162, 0.24450094658856297, 0.1972307635814408, 0.15811061212727073, 0.9724786727161286, 0.9850820970289613], \"Term\": [\"also\", \"amp\", \"area\", \"attack\", \"back\", \"bad\", \"be\", \"become\", \"bomb\", \"break\", \"bus\", \"can\", \"car\", \"case\", \"cause\", \"come\", \"confirm\", \"could\", \"create\", \"crew\", \"day\", \"dead\", \"die\", \"disaster\", \"earthquake\", \"evacuate\", \"even\", \"ever\", \"expect\", \"eye\", \"fall\", \"family\", \"feel\", \"find\", \"fire\", \"first\", \"force\", \"friend\", \"fuck\", \"fun\", \"game\", \"gas\", \"get\", \"girl\", \"give\", \"glad\", \"go\", \"good\", \"great\", \"group\", \"guy\", \"have\", \"head\", \"hear\", \"heart\", \"help\", \"hit\", \"home\", \"hope\", \"hour\", \"insurer\", \"insurer\", \"insurer\", \"insurer\", \"insurer\", \"issue\", \"kill\", \"know\", \"large\", \"last\", \"late\", \"leave\", \"let\", \"life\", \"little\", \"live\", \"look\", \"lose\", \"lot\", \"love\", \"make\", \"man\", \"many\", \"map\", \"may\", \"member\", \"miss\", \"move\", \"much\", \"must\", \"need\", \"never\", \"new\", \"news\", \"night\", \"nuclear\", \"official\", \"old\", \"open\", \"other\", \"part\", \"people\", \"phone\", \"plane\", \"point\", \"police\", \"pretty\", \"rain\", \"read\", \"really\", \"right\", \"rule\", \"run\", \"s\", \"say\", \"school\", \"scream\", \"see\", \"send\", \"ship\", \"shot\", \"show\", \"sink\", \"soon\", \"sound\", \"start\", \"state\", \"stay\", \"still\", \"stock\", \"storm\", \"suffer\", \"survive\", \"survivor\", \"survivor\", \"survivor\", \"survivor\", \"survivor\", \"take\", \"terrorist\", \"thank\", \"thing\", \"think\", \"thunder\", \"time\", \"today\", \"tonight\", \"tornado\", \"train\", \"trap\", \"trap\", \"trap\", \"trap\", \"trap\", \"trauma\", \"trauma\", \"trauma\", \"trauma\", \"trauma\", \"update\", \"use\", \"victim\", \"video\", \"wait\", \"want\", \"watch\", \"way\", \"weapon\", \"week\", \"well\", \"whole\", \"wildfire\", \"work\", \"world\", \"would\", \"wound\", \"wound\", \"wound\", \"wound\", \"wound\", \"wreck\", \"wreck\", \"wreck\", \"wreck\", \"wreck\", \"wrong\", \"year\"]}, \"R\": 30, \"lambda.step\": 0.01, \"plot.opts\": {\"xlab\": \"PC1\", \"ylab\": \"PC2\"}, \"topic.order\": [3, 4, 5, 1, 2]};\n",
       "\n",
       "function LDAvis_load_lib(url, callback){\n",
       "  var s = document.createElement('script');\n",
       "  s.src = url;\n",
       "  s.async = true;\n",
       "  s.onreadystatechange = s.onload = callback;\n",
       "  s.onerror = function(){console.warn(\"failed to load library \" + url);};\n",
       "  document.getElementsByTagName(\"head\")[0].appendChild(s);\n",
       "}\n",
       "\n",
       "if(typeof(LDAvis) !== \"undefined\"){\n",
       "   // already loaded: just create the visualization\n",
       "   !function(LDAvis){\n",
       "       new LDAvis(\"#\" + \"ldavis_el173741397693483454081004062319\", ldavis_el173741397693483454081004062319_data);\n",
       "   }(LDAvis);\n",
       "}else if(typeof define === \"function\" && define.amd){\n",
       "   // require.js is available: use it to load d3/LDAvis\n",
       "   require.config({paths: {d3: \"https://cdnjs.cloudflare.com/ajax/libs/d3/3.5.5/d3.min\"}});\n",
       "   require([\"d3\"], function(d3){\n",
       "      window.d3 = d3;\n",
       "      LDAvis_load_lib(\"https://cdn.rawgit.com/bmabey/pyLDAvis/files/ldavis.v1.0.0.js\", function(){\n",
       "        new LDAvis(\"#\" + \"ldavis_el173741397693483454081004062319\", ldavis_el173741397693483454081004062319_data);\n",
       "      });\n",
       "    });\n",
       "}else{\n",
       "    // require.js not available: dynamically load d3 & LDAvis\n",
       "    LDAvis_load_lib(\"https://cdnjs.cloudflare.com/ajax/libs/d3/3.5.5/d3.min.js\", function(){\n",
       "         LDAvis_load_lib(\"https://cdn.rawgit.com/bmabey/pyLDAvis/files/ldavis.v1.0.0.js\", function(){\n",
       "                 new LDAvis(\"#\" + \"ldavis_el173741397693483454081004062319\", ldavis_el173741397693483454081004062319_data);\n",
       "            })\n",
       "         });\n",
       "}\n",
       "</script>"
      ],
      "text/plain": [
       "<IPython.core.display.HTML object>"
      ]
     },
     "execution_count": 39,
     "metadata": {},
     "output_type": "execute_result"
    }
   ],
   "source": [
    "# Visualize the topics\n",
    "pyLDAvis.enable_notebook()\n",
    "vis = pyLDAvis.gensim.prepare(lda_model, corpus, id2word)\n",
    "pyLDAvis.display(vis)"
   ]
  },
  {
   "cell_type": "code",
   "execution_count": null,
   "metadata": {},
   "outputs": [],
   "source": []
  }
 ],
 "metadata": {
  "kernelspec": {
   "display_name": "Python 3.8.3 64-bit ('venv': venv)",
   "language": "python",
   "name": "python38364bitvenvvenv2c59b4daff174366ba4022eb4e693050"
  },
  "language_info": {
   "codemirror_mode": {
    "name": "ipython",
    "version": 3
   },
   "file_extension": ".py",
   "mimetype": "text/x-python",
   "name": "python",
   "nbconvert_exporter": "python",
   "pygments_lexer": "ipython3",
   "version": "3.8.3"
  }
 },
 "nbformat": 4,
 "nbformat_minor": 4
}
